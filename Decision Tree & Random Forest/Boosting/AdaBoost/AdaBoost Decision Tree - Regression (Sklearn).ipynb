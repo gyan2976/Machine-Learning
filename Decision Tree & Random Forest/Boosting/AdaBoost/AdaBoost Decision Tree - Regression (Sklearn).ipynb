{
  "nbformat": 4,
  "nbformat_minor": 0,
  "metadata": {
    "colab": {
      "provenance": [],
      "gpuType": "T4"
    },
    "kernelspec": {
      "name": "python3",
      "display_name": "Python 3"
    },
    "language_info": {
      "name": "python"
    },
    "accelerator": "GPU"
  },
  "cells": [
    {
      "cell_type": "markdown",
      "source": [
        "#**AdaBoost Decision Tree - Regression (Sklearn)**"
      ],
      "metadata": {
        "id": "4iyAzJiK0vH_"
      }
    },
    {
      "cell_type": "markdown",
      "source": [
        "**Import Libraries**"
      ],
      "metadata": {
        "id": "uG1RJOrJoxDi"
      }
    },
    {
      "cell_type": "code",
      "execution_count": 1,
      "metadata": {
        "id": "AcBMz4mDPvTi"
      },
      "outputs": [],
      "source": [
        "import numpy as np\n",
        "import pandas as pd\n",
        "from pandas import DataFrame\n",
        "import matplotlib.pyplot as plt\n",
        "import seaborn as sns\n",
        "from collections import Counter\n",
        "from sklearn.datasets import load_diabetes, load_iris, fetch_california_housing\n",
        "from sklearn.model_selection import train_test_split\n",
        "from sklearn.datasets import make_classification\n",
        "from sklearn.preprocessing import MinMaxScaler, StandardScaler, RobustScaler\n",
        "from sklearn.preprocessing import MaxAbsScaler, PowerTransformer\n",
        "from sklearn.linear_model import LinearRegression, LogisticRegression, RidgeClassifier, Ridge, Lasso, ElasticNet\n",
        "from sklearn.tree import DecisionTreeRegressor, DecisionTreeClassifier\n",
        "from sklearn.neighbors import KNeighborsClassifier, KNeighborsRegressor\n",
        "from sklearn.ensemble import RandomForestClassifier, ExtraTreesClassifier\n",
        "from sklearn.ensemble import AdaBoostClassifier, AdaBoostRegressor\n",
        "from sklearn.ensemble import GradientBoostingClassifier, GradientBoostingRegressor\n",
        "from sklearn.ensemble import BaggingClassifier, BaggingRegressor\n",
        "from sklearn.ensemble import VotingClassifier, VotingRegressor\n",
        "from sklearn.ensemble import StackingClassifier, StackingRegressor\n",
        "from sklearn.ensemble import HistGradientBoostingClassifier, HistGradientBoostingRegressor\n",
        "from sklearn.ensemble import ExtraTreesClassifier, ExtraTreesRegressor\n",
        "from sklearn.ensemble import IsolationForest\n",
        "from sklearn.svm import SVC, SVR\n",
        "from sklearn.naive_bayes import GaussianNB, MultinomialNB, BernoulliNB\n",
        "from sklearn.neural_network import MLPClassifier, MLPRegressor\n",
        "from sklearn.metrics import mean_squared_error, mean_absolute_error, r2_score\n",
        "from sklearn.metrics import precision_score, recall_score, f1_score, explained_variance_score\n",
        "from sklearn.metrics import accuracy_score, classification_report, confusion_matrix, roc_curve, auc"
      ]
    },
    {
      "cell_type": "markdown",
      "source": [
        "**Code**"
      ],
      "metadata": {
        "id": "txc-dnUTvyY9"
      }
    },
    {
      "cell_type": "markdown",
      "source": [
        "##**Using Sklearn**"
      ],
      "metadata": {
        "id": "HJuDqR5JVM20"
      }
    },
    {
      "cell_type": "code",
      "source": [
        "# Simple dataset\n",
        "X = np.array([[1], [2], [3], [4], [5], [6], [7], [8], [9], [10]])  # Features\n",
        "y = np.array([1, 2, 3, 4, 5, 6, 7, 8, 9, 10])  # Target values\n",
        "\n",
        "# Split the dataset\n",
        "X_train, X_test, y_train, y_test = train_test_split(X, y, test_size=0.2, random_state=42)\n",
        "\n",
        "# Create a DecisionTreeRegressor\n",
        "base_model = DecisionTreeRegressor(criterion='squared_error', max_depth=5, min_samples_split=3)\n",
        "\n",
        "# Create an AdaBoost regressor\n",
        "adaboost_model = AdaBoostRegressor(estimator=base_model, n_estimators=50, random_state=42)\n",
        "\n",
        "# Train the AdaBoost regressor\n",
        "adaboost_model.fit(X_train, y_train)\n",
        "\n",
        "# Make predictions\n",
        "y_pred = adaboost_model.predict(X_test)\n",
        "\n",
        "# Evaluate the regression performance\n",
        "mse = mean_squared_error(y_test, y_pred)\n",
        "mae = mean_absolute_error(y_test, y_pred)\n",
        "r2 = r2_score(y_test, y_pred)\n",
        "\n",
        "print(f\"Mean Squared Error: {mse}\")\n",
        "print(f\"Mean Absolute Error: {mae}\")\n",
        "print(f\"R^2 Score: {r2}\")\n"
      ],
      "metadata": {
        "colab": {
          "base_uri": "https://localhost:8080/"
        },
        "id": "GBN_T9vvUkJw",
        "outputId": "fe37f0ee-a92c-454a-c279-7e42fc554e51"
      },
      "execution_count": 2,
      "outputs": [
        {
          "output_type": "stream",
          "name": "stdout",
          "text": [
            "Mean Squared Error: 0.5\n",
            "Mean Absolute Error: 0.5\n",
            "R^2 Score: 0.9591836734693877\n"
          ]
        }
      ]
    },
    {
      "cell_type": "markdown",
      "source": [
        "##**Using AdaBoost Class**"
      ],
      "metadata": {
        "id": "3nsydM7XVGRQ"
      }
    },
    {
      "cell_type": "code",
      "source": [
        "class AdaBoost:\n",
        "    def __init__(self, n_estimators=50):\n",
        "        self.n_estimators = n_estimators\n",
        "\n",
        "    def fit(self, X, y, model):\n",
        "        n_samples = len(y)\n",
        "        self.models = []\n",
        "        self.alphas = []\n",
        "        w = np.ones(n_samples) / n_samples  # Initialize weights\n",
        "\n",
        "        for _ in range(self.n_estimators):\n",
        "            model.fit(X, y)  # Fit the model\n",
        "            y_pred = model.predict(X)\n",
        "\n",
        "            # Calculate the error\n",
        "            error = np.abs(y - y_pred)\n",
        "            error_rate = np.dot(w, error) / np.sum(w)  # Weighted error rate\n",
        "\n",
        "            # Handle perfect predictions\n",
        "            if error_rate <= 0:\n",
        "                print(\"Perfect prediction encountered. Stopping training.\")\n",
        "                break\n",
        "\n",
        "            # Calculate alpha\n",
        "            alpha = 0.5 * np.log((1 - error_rate) / (error_rate + 1e-10))  # Avoid division by zero\n",
        "            self.models.append(model)\n",
        "            self.alphas.append(alpha)\n",
        "\n",
        "            # Update weights\n",
        "            w *= np.exp(-alpha * (y - y_pred))\n",
        "            w /= np.sum(w)  # Normalize weights\n",
        "\n",
        "            # Check if all errors are very small\n",
        "            if np.all(error < 1e-10):\n",
        "                print(\"All errors are very small. Stopping training.\")\n",
        "                break\n",
        "\n",
        "        print(f\"Number of trees used: {len(self.models)}\")\n",
        "\n",
        "    def predict(self, X):\n",
        "        y_pred = np.zeros(X.shape[0])\n",
        "        for model, alpha in zip(self.models, self.alphas):\n",
        "            y_pred += alpha * model.predict(X)\n",
        "        return y_pred\n",
        "\n",
        "# Simple dataset\n",
        "X = np.array([[1], [2], [3], [4], [5], [6], [7], [8], [9], [10]])  # Features\n",
        "y = np.array([1, 2, 3, 4, 5, 6, 7, 8, 9, 10])  # Target values\n",
        "\n",
        "# Split the dataset\n",
        "X_train, X_test, y_train, y_test = train_test_split(X, y, test_size=0.2, random_state=42)\n",
        "\n",
        "# Create a DecisionTreeRegressor\n",
        "base_model = DecisionTreeRegressor(criterion='squared_error', max_depth=5, min_samples_split=3)\n",
        "\n",
        "# Create and train the AdaBoost model\n",
        "adaboost_model = AdaBoost(n_estimators=50)\n",
        "adaboost_model.fit(X_train, y_train, base_model)\n",
        "\n",
        "# Make predictions\n",
        "y_pred = adaboost_model.predict(X_test)\n",
        "\n",
        "# Evaluate the regression performance\n",
        "mse = mean_squared_error(y_test, y_pred)\n",
        "mae = mean_absolute_error(y_test, y_pred)\n",
        "r2 = r2_score(y_test, y_pred)\n",
        "\n",
        "print(f\"Mean Squared Error: {mse}\")\n",
        "print(f\"Mean Absolute Error: {mae}\")\n",
        "print(f\"R^2 Score: {r2}\")\n"
      ],
      "metadata": {
        "colab": {
          "base_uri": "https://localhost:8080/"
        },
        "id": "wN1qbHagUkuf",
        "outputId": "9e3fb5cb-1346-4d83-bb33-864233daadca"
      },
      "execution_count": 3,
      "outputs": [
        {
          "output_type": "stream",
          "name": "stdout",
          "text": [
            "Number of trees used: 50\n",
            "Mean Squared Error: 1162.5003896661963\n",
            "Mean Absolute Error: 26.739721508241985\n",
            "R^2 Score: -93.89799099315888\n"
          ]
        }
      ]
    }
  ]
}