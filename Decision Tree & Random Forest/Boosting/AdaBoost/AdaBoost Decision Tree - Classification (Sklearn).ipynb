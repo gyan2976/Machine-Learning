{
  "nbformat": 4,
  "nbformat_minor": 0,
  "metadata": {
    "colab": {
      "provenance": [],
      "gpuType": "T4"
    },
    "kernelspec": {
      "name": "python3",
      "display_name": "Python 3"
    },
    "language_info": {
      "name": "python"
    },
    "accelerator": "GPU"
  },
  "cells": [
    {
      "cell_type": "markdown",
      "source": [
        "#**AdaBoost Decision Tree - Classification (Sklearn)**"
      ],
      "metadata": {
        "id": "4iyAzJiK0vH_"
      }
    },
    {
      "cell_type": "markdown",
      "source": [
        "**Import Libraries**"
      ],
      "metadata": {
        "id": "uG1RJOrJoxDi"
      }
    },
    {
      "cell_type": "code",
      "execution_count": 1,
      "metadata": {
        "id": "AcBMz4mDPvTi"
      },
      "outputs": [],
      "source": [
        "import numpy as np\n",
        "import pandas as pd\n",
        "from pandas import DataFrame\n",
        "import matplotlib.pyplot as plt\n",
        "import seaborn as sns\n",
        "from collections import Counter\n",
        "from sklearn.datasets import load_diabetes, load_iris, fetch_california_housing\n",
        "from sklearn.model_selection import train_test_split\n",
        "from sklearn.datasets import make_classification\n",
        "from sklearn.preprocessing import MinMaxScaler, StandardScaler, RobustScaler\n",
        "from sklearn.preprocessing import MaxAbsScaler, PowerTransformer\n",
        "from sklearn.linear_model import LinearRegression, LogisticRegression, RidgeClassifier, Ridge, Lasso, ElasticNet\n",
        "from sklearn.tree import DecisionTreeRegressor, DecisionTreeClassifier\n",
        "from sklearn.neighbors import KNeighborsClassifier, KNeighborsRegressor\n",
        "from sklearn.ensemble import RandomForestClassifier, ExtraTreesClassifier\n",
        "from sklearn.ensemble import AdaBoostClassifier, AdaBoostRegressor\n",
        "from sklearn.ensemble import GradientBoostingClassifier, GradientBoostingRegressor\n",
        "from sklearn.ensemble import BaggingClassifier, BaggingRegressor\n",
        "from sklearn.ensemble import VotingClassifier, VotingRegressor\n",
        "from sklearn.ensemble import StackingClassifier, StackingRegressor\n",
        "from sklearn.ensemble import HistGradientBoostingClassifier, HistGradientBoostingRegressor\n",
        "from sklearn.ensemble import ExtraTreesClassifier, ExtraTreesRegressor\n",
        "from sklearn.ensemble import IsolationForest\n",
        "from sklearn.svm import SVC, SVR\n",
        "from sklearn.naive_bayes import GaussianNB, MultinomialNB, BernoulliNB\n",
        "from sklearn.neural_network import MLPClassifier, MLPRegressor\n",
        "from sklearn.metrics import mean_squared_error, mean_absolute_error, r2_score\n",
        "from sklearn.metrics import precision_score, recall_score, f1_score, explained_variance_score\n",
        "from sklearn.metrics import accuracy_score, classification_report, confusion_matrix, roc_curve, auc"
      ]
    },
    {
      "cell_type": "markdown",
      "source": [
        "**Code**"
      ],
      "metadata": {
        "id": "txc-dnUTvyY9"
      }
    },
    {
      "cell_type": "markdown",
      "source": [
        "##**Using Sklearn**"
      ],
      "metadata": {
        "id": "HJuDqR5JVM20"
      }
    },
    {
      "cell_type": "code",
      "source": [
        "# Load dataset\n",
        "iris = load_iris()\n",
        "X, y = iris.data, iris.target\n",
        "\n",
        "# Convert to binary classification for AdaBoost\n",
        "y = np.where(y == 2, 1, 0)  # Convert to 0 and 1 for AdaBoost\n",
        "\n",
        "# Split the dataset into training and testing sets\n",
        "X_train, X_test, y_train, y_test = train_test_split(X, y, test_size=0.2, random_state=42)\n",
        "\n",
        "# Create a DecisionTreeClassifier instance\n",
        "decision_tree_model = DecisionTreeClassifier(max_depth=1)\n",
        "\n",
        "# Create an AdaBoostClassifier instance\n",
        "adaboost = AdaBoostClassifier(estimator=decision_tree_model, n_estimators=50, random_state=42)\n",
        "\n",
        "# Train AdaBoost with the decision tree model\n",
        "adaboost.fit(X_train, y_train)\n",
        "\n",
        "# Get number of decision trees used\n",
        "num_trees = adaboost.n_estimators\n",
        "print(f\"Number of Decision Trees Used: {num_trees}\")\n",
        "\n",
        "# Predictions\n",
        "predictions = adaboost.predict(X_test)\n",
        "print(\"Sample Predictions:\", predictions[:5])\n",
        "\n",
        "# Accuracy\n",
        "accuracy = accuracy_score(y_test, predictions)\n",
        "print(f\"AdaBoost Accuracy: {accuracy:.2f}\")\n",
        "\n",
        "# Confusion Matrix\n",
        "conf_matrix = confusion_matrix(y_test, predictions)\n",
        "print(\"Confusion Matrix:\\n\", conf_matrix)"
      ],
      "metadata": {
        "colab": {
          "base_uri": "https://localhost:8080/"
        },
        "id": "GBN_T9vvUkJw",
        "outputId": "c45fe24c-7c8d-4e93-cd37-907a99cf2a2d"
      },
      "execution_count": 2,
      "outputs": [
        {
          "output_type": "stream",
          "name": "stdout",
          "text": [
            "Number of Decision Trees Used: 50\n",
            "Sample Predictions: [0 0 1 0 0]\n",
            "AdaBoost Accuracy: 0.90\n",
            "Confusion Matrix:\n",
            " [[18  1]\n",
            " [ 2  9]]\n"
          ]
        },
        {
          "output_type": "stream",
          "name": "stderr",
          "text": [
            "/usr/local/lib/python3.10/dist-packages/sklearn/ensemble/_weight_boosting.py:527: FutureWarning: The SAMME.R algorithm (the default) is deprecated and will be removed in 1.6. Use the SAMME algorithm to circumvent this warning.\n",
            "  warnings.warn(\n"
          ]
        }
      ]
    },
    {
      "cell_type": "markdown",
      "source": [
        "##**Using AdaBoost Class**"
      ],
      "metadata": {
        "id": "3nsydM7XVGRQ"
      }
    },
    {
      "cell_type": "code",
      "source": [
        "class AdaBoost:\n",
        "    def __init__(self, model, n_estimators=50):\n",
        "        self.model = model  # The weak learner passed as a parameter\n",
        "        self.n_estimators = n_estimators\n",
        "        self.models = []  # List to hold weak learners\n",
        "        self.alphas = []  # List to hold the weights of the weak learners\n",
        "\n",
        "    def fit(self, X, y):\n",
        "        n_samples = X.shape[0]\n",
        "        w = np.ones(n_samples) / n_samples  # Initialize weights\n",
        "\n",
        "        for _ in range(self.n_estimators):\n",
        "            # Clone the model to ensure a new instance is created for each fit\n",
        "            model = self.model\n",
        "            model.fit(X, y, sample_weight=w)  # Fit model with sample weights\n",
        "            y_pred = model.predict(X)\n",
        "\n",
        "            # Calculate error\n",
        "            error = np.sum(w * (y_pred != y)) / np.sum(w)\n",
        "            alpha = 0.5 * np.log((1 - error) / (error + 1e-10))\n",
        "\n",
        "            # Update weights\n",
        "            w *= np.exp(-alpha * (y_pred == y) * 2 - 1)  # Adjusted for binary labels\n",
        "            w /= np.sum(w)  # Normalize weights\n",
        "\n",
        "            self.models.append(model)\n",
        "            self.alphas.append(alpha)\n",
        "\n",
        "    def predict(self, X):\n",
        "        y_pred = np.zeros(X.shape[0])\n",
        "        for alpha, model in zip(self.alphas, self.models):\n",
        "            y_pred += alpha * model.predict(X)\n",
        "        return (y_pred > 0).astype(int)\n",
        "\n",
        "    def get_n_estimators(self):\n",
        "        return len(self.models)\n",
        "\n",
        "# Load dataset\n",
        "iris = load_iris()\n",
        "X, y = iris.data, iris.target\n",
        "\n",
        "# Convert to binary classification for AdaBoost\n",
        "y = np.where(y == 2, 1, 0)  # Convert to 0 and 1 for AdaBoost\n",
        "\n",
        "# Split the dataset into training and testing sets\n",
        "X_train, X_test, y_train, y_test = train_test_split(X, y, test_size=0.2, random_state=42)\n",
        "X_train.shape, X_test.shape, y_train.shape, y_test.shape\n",
        "\n",
        "# Create a DecisionTreeClassifier instance\n",
        "decision_tree_model = DecisionTreeClassifier(max_depth=1)\n",
        "\n",
        "# Train AdaBoost with the decision tree model\n",
        "adaboost = AdaBoost(model=decision_tree_model, n_estimators=50)\n",
        "adaboost.fit(X_train, y_train)\n",
        "\n",
        "# Get number of decision trees used\n",
        "num_trees = adaboost.get_n_estimators()\n",
        "print(f\"Number of Decision Trees Used: {num_trees}\")\n",
        "\n",
        "# Predictions\n",
        "predictions = adaboost.predict(X_test)\n",
        "print(predictions[:5])\n",
        "\n",
        "# Accuracy\n",
        "accuracy = accuracy_score(y_test, predictions)\n",
        "print(f\"AdaBoost Accuracy: {accuracy:.2f}\")\n",
        "\n",
        "# Confusion Matrix\n",
        "conf_matrix = confusion_matrix(y_test, predictions)\n",
        "print(\"Confusion Matrix:\\n\", conf_matrix)"
      ],
      "metadata": {
        "colab": {
          "base_uri": "https://localhost:8080/"
        },
        "id": "wN1qbHagUkuf",
        "outputId": "522431f0-894c-4cac-fae8-04c1821115ba"
      },
      "execution_count": 3,
      "outputs": [
        {
          "output_type": "stream",
          "name": "stdout",
          "text": [
            "Number of Decision Trees Used: 50\n",
            "[0 0 0 0 0]\n",
            "AdaBoost Accuracy: 0.60\n",
            "Confusion Matrix:\n",
            " [[18  1]\n",
            " [11  0]]\n"
          ]
        }
      ]
    }
  ]
}