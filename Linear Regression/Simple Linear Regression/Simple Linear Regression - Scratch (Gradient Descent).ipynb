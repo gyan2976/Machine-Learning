{
  "nbformat": 4,
  "nbformat_minor": 0,
  "metadata": {
    "colab": {
      "provenance": []
    },
    "kernelspec": {
      "name": "python3",
      "display_name": "Python 3"
    },
    "language_info": {
      "name": "python"
    }
  },
  "cells": [
    {
      "cell_type": "markdown",
      "source": [
        "#**Simple Linear Regression - Scratch (Gradient Descent Basic Code)**"
      ],
      "metadata": {
        "id": "pWlF8SYzOX06"
      }
    },
    {
      "cell_type": "markdown",
      "source": [
        "### Scaling Methods :\n",
        "**Min-Max Scaling**\n",
        "  - min_max_scaler = MinMaxScaler()\n",
        "  - X_minmax = min_max_scaler.fit_transform(X)\n",
        "\n",
        "**Z-Score Normalization**\n",
        "  - standard_scaler = StandardScaler()\n",
        "  - X_standard = standard_scaler.fit_transform(X)\n",
        "\n",
        "**Robust Scaling**\n",
        "  - robust_scaler = RobustScaler()\n",
        "  - X_robust = robust_scaler.fit_transform(X)\n",
        "\n",
        "**MaxAbs Scaling**\n",
        "  - maxabs_scaler = MaxAbsScaler()\n",
        "  - X_maxabs = maxabs_scaler.fit_transform(X)\n",
        "\n",
        "**Power Transformation**\n",
        "  - power_transformer = PowerTransformer()\n",
        "  - X_power = power_transformer.fit_transform(X)**"
      ],
      "metadata": {
        "id": "xB4-dTwHojtw"
      }
    },
    {
      "cell_type": "markdown",
      "source": [
        "**Mount Drive**"
      ],
      "metadata": {
        "id": "1QSvrDLQSbxH"
      }
    },
    {
      "cell_type": "code",
      "source": [
        "from google.colab import drive\n",
        "drive.mount('/content/drive')"
      ],
      "metadata": {
        "colab": {
          "base_uri": "https://localhost:8080/"
        },
        "id": "KfSqoDFzSa9R",
        "outputId": "bd22d94a-b504-4739-9fb1-b8bb0ac1953c"
      },
      "execution_count": 1,
      "outputs": [
        {
          "output_type": "stream",
          "name": "stdout",
          "text": [
            "Drive already mounted at /content/drive; to attempt to forcibly remount, call drive.mount(\"/content/drive\", force_remount=True).\n"
          ]
        }
      ]
    },
    {
      "cell_type": "markdown",
      "source": [
        "**Import Libraries**"
      ],
      "metadata": {
        "id": "6GF6hBYHOcVq"
      }
    },
    {
      "cell_type": "code",
      "execution_count": 2,
      "metadata": {
        "id": "AcBMz4mDPvTi"
      },
      "outputs": [],
      "source": [
        "import numpy as np\n",
        "import pandas as pd\n",
        "import matplotlib.pyplot as plt\n",
        "import seaborn as sns\n",
        "from collections import Counter\n",
        "from sklearn.datasets import load_diabetes, load_iris, load_breast_cancer\n",
        "from sklearn.model_selection import train_test_split\n",
        "from sklearn.preprocessing import MinMaxScaler, StandardScaler, RobustScaler\n",
        "from sklearn.preprocessing import MaxAbsScaler, PowerTransformer\n",
        "from sklearn.linear_model import LinearRegression, LogisticRegression\n",
        "from sklearn.tree import DecisionTreeRegressor, DecisionTreeClassifier\n",
        "from sklearn.metrics import mean_squared_error, mean_absolute_error, r2_score\n",
        "from sklearn.metrics import precision_score, recall_score, f1_score, explained_variance_score\n",
        "from sklearn.metrics import accuracy_score, classification_report, confusion_matrix, roc_curve, auc"
      ]
    },
    {
      "cell_type": "markdown",
      "source": [
        "**Code**"
      ],
      "metadata": {
        "id": "txc-dnUTvyY9"
      }
    },
    {
      "cell_type": "code",
      "source": [
        "df = pd.read_csv('/content/drive/MyDrive/Practice/Placement_Data.csv')\n",
        "df.head()"
      ],
      "metadata": {
        "colab": {
          "base_uri": "https://localhost:8080/",
          "height": 206
        },
        "id": "fZOqo6gYSkKt",
        "outputId": "68509de2-6ead-45fd-994e-50044ebcc8ce"
      },
      "execution_count": 3,
      "outputs": [
        {
          "output_type": "execute_result",
          "data": {
            "text/plain": [
              "   cgpa  package\n",
              "0  6.89     3.26\n",
              "1  5.12     1.98\n",
              "2  7.82     3.25\n",
              "3  7.42     3.67\n",
              "4  6.94     3.57"
            ],
            "text/html": [
              "\n",
              "  <div id=\"df-ff12bbd8-57c1-4c95-a1f3-41fda11256d7\" class=\"colab-df-container\">\n",
              "    <div>\n",
              "<style scoped>\n",
              "    .dataframe tbody tr th:only-of-type {\n",
              "        vertical-align: middle;\n",
              "    }\n",
              "\n",
              "    .dataframe tbody tr th {\n",
              "        vertical-align: top;\n",
              "    }\n",
              "\n",
              "    .dataframe thead th {\n",
              "        text-align: right;\n",
              "    }\n",
              "</style>\n",
              "<table border=\"1\" class=\"dataframe\">\n",
              "  <thead>\n",
              "    <tr style=\"text-align: right;\">\n",
              "      <th></th>\n",
              "      <th>cgpa</th>\n",
              "      <th>package</th>\n",
              "    </tr>\n",
              "  </thead>\n",
              "  <tbody>\n",
              "    <tr>\n",
              "      <th>0</th>\n",
              "      <td>6.89</td>\n",
              "      <td>3.26</td>\n",
              "    </tr>\n",
              "    <tr>\n",
              "      <th>1</th>\n",
              "      <td>5.12</td>\n",
              "      <td>1.98</td>\n",
              "    </tr>\n",
              "    <tr>\n",
              "      <th>2</th>\n",
              "      <td>7.82</td>\n",
              "      <td>3.25</td>\n",
              "    </tr>\n",
              "    <tr>\n",
              "      <th>3</th>\n",
              "      <td>7.42</td>\n",
              "      <td>3.67</td>\n",
              "    </tr>\n",
              "    <tr>\n",
              "      <th>4</th>\n",
              "      <td>6.94</td>\n",
              "      <td>3.57</td>\n",
              "    </tr>\n",
              "  </tbody>\n",
              "</table>\n",
              "</div>\n",
              "    <div class=\"colab-df-buttons\">\n",
              "\n",
              "  <div class=\"colab-df-container\">\n",
              "    <button class=\"colab-df-convert\" onclick=\"convertToInteractive('df-ff12bbd8-57c1-4c95-a1f3-41fda11256d7')\"\n",
              "            title=\"Convert this dataframe to an interactive table.\"\n",
              "            style=\"display:none;\">\n",
              "\n",
              "  <svg xmlns=\"http://www.w3.org/2000/svg\" height=\"24px\" viewBox=\"0 -960 960 960\">\n",
              "    <path d=\"M120-120v-720h720v720H120Zm60-500h600v-160H180v160Zm220 220h160v-160H400v160Zm0 220h160v-160H400v160ZM180-400h160v-160H180v160Zm440 0h160v-160H620v160ZM180-180h160v-160H180v160Zm440 0h160v-160H620v160Z\"/>\n",
              "  </svg>\n",
              "    </button>\n",
              "\n",
              "  <style>\n",
              "    .colab-df-container {\n",
              "      display:flex;\n",
              "      gap: 12px;\n",
              "    }\n",
              "\n",
              "    .colab-df-convert {\n",
              "      background-color: #E8F0FE;\n",
              "      border: none;\n",
              "      border-radius: 50%;\n",
              "      cursor: pointer;\n",
              "      display: none;\n",
              "      fill: #1967D2;\n",
              "      height: 32px;\n",
              "      padding: 0 0 0 0;\n",
              "      width: 32px;\n",
              "    }\n",
              "\n",
              "    .colab-df-convert:hover {\n",
              "      background-color: #E2EBFA;\n",
              "      box-shadow: 0px 1px 2px rgba(60, 64, 67, 0.3), 0px 1px 3px 1px rgba(60, 64, 67, 0.15);\n",
              "      fill: #174EA6;\n",
              "    }\n",
              "\n",
              "    .colab-df-buttons div {\n",
              "      margin-bottom: 4px;\n",
              "    }\n",
              "\n",
              "    [theme=dark] .colab-df-convert {\n",
              "      background-color: #3B4455;\n",
              "      fill: #D2E3FC;\n",
              "    }\n",
              "\n",
              "    [theme=dark] .colab-df-convert:hover {\n",
              "      background-color: #434B5C;\n",
              "      box-shadow: 0px 1px 3px 1px rgba(0, 0, 0, 0.15);\n",
              "      filter: drop-shadow(0px 1px 2px rgba(0, 0, 0, 0.3));\n",
              "      fill: #FFFFFF;\n",
              "    }\n",
              "  </style>\n",
              "\n",
              "    <script>\n",
              "      const buttonEl =\n",
              "        document.querySelector('#df-ff12bbd8-57c1-4c95-a1f3-41fda11256d7 button.colab-df-convert');\n",
              "      buttonEl.style.display =\n",
              "        google.colab.kernel.accessAllowed ? 'block' : 'none';\n",
              "\n",
              "      async function convertToInteractive(key) {\n",
              "        const element = document.querySelector('#df-ff12bbd8-57c1-4c95-a1f3-41fda11256d7');\n",
              "        const dataTable =\n",
              "          await google.colab.kernel.invokeFunction('convertToInteractive',\n",
              "                                                    [key], {});\n",
              "        if (!dataTable) return;\n",
              "\n",
              "        const docLinkHtml = 'Like what you see? Visit the ' +\n",
              "          '<a target=\"_blank\" href=https://colab.research.google.com/notebooks/data_table.ipynb>data table notebook</a>'\n",
              "          + ' to learn more about interactive tables.';\n",
              "        element.innerHTML = '';\n",
              "        dataTable['output_type'] = 'display_data';\n",
              "        await google.colab.output.renderOutput(dataTable, element);\n",
              "        const docLink = document.createElement('div');\n",
              "        docLink.innerHTML = docLinkHtml;\n",
              "        element.appendChild(docLink);\n",
              "      }\n",
              "    </script>\n",
              "  </div>\n",
              "\n",
              "\n",
              "<div id=\"df-f7717dda-41ab-41f6-b85b-bef674024c6d\">\n",
              "  <button class=\"colab-df-quickchart\" onclick=\"quickchart('df-f7717dda-41ab-41f6-b85b-bef674024c6d')\"\n",
              "            title=\"Suggest charts\"\n",
              "            style=\"display:none;\">\n",
              "\n",
              "<svg xmlns=\"http://www.w3.org/2000/svg\" height=\"24px\"viewBox=\"0 0 24 24\"\n",
              "     width=\"24px\">\n",
              "    <g>\n",
              "        <path d=\"M19 3H5c-1.1 0-2 .9-2 2v14c0 1.1.9 2 2 2h14c1.1 0 2-.9 2-2V5c0-1.1-.9-2-2-2zM9 17H7v-7h2v7zm4 0h-2V7h2v10zm4 0h-2v-4h2v4z\"/>\n",
              "    </g>\n",
              "</svg>\n",
              "  </button>\n",
              "\n",
              "<style>\n",
              "  .colab-df-quickchart {\n",
              "      --bg-color: #E8F0FE;\n",
              "      --fill-color: #1967D2;\n",
              "      --hover-bg-color: #E2EBFA;\n",
              "      --hover-fill-color: #174EA6;\n",
              "      --disabled-fill-color: #AAA;\n",
              "      --disabled-bg-color: #DDD;\n",
              "  }\n",
              "\n",
              "  [theme=dark] .colab-df-quickchart {\n",
              "      --bg-color: #3B4455;\n",
              "      --fill-color: #D2E3FC;\n",
              "      --hover-bg-color: #434B5C;\n",
              "      --hover-fill-color: #FFFFFF;\n",
              "      --disabled-bg-color: #3B4455;\n",
              "      --disabled-fill-color: #666;\n",
              "  }\n",
              "\n",
              "  .colab-df-quickchart {\n",
              "    background-color: var(--bg-color);\n",
              "    border: none;\n",
              "    border-radius: 50%;\n",
              "    cursor: pointer;\n",
              "    display: none;\n",
              "    fill: var(--fill-color);\n",
              "    height: 32px;\n",
              "    padding: 0;\n",
              "    width: 32px;\n",
              "  }\n",
              "\n",
              "  .colab-df-quickchart:hover {\n",
              "    background-color: var(--hover-bg-color);\n",
              "    box-shadow: 0 1px 2px rgba(60, 64, 67, 0.3), 0 1px 3px 1px rgba(60, 64, 67, 0.15);\n",
              "    fill: var(--button-hover-fill-color);\n",
              "  }\n",
              "\n",
              "  .colab-df-quickchart-complete:disabled,\n",
              "  .colab-df-quickchart-complete:disabled:hover {\n",
              "    background-color: var(--disabled-bg-color);\n",
              "    fill: var(--disabled-fill-color);\n",
              "    box-shadow: none;\n",
              "  }\n",
              "\n",
              "  .colab-df-spinner {\n",
              "    border: 2px solid var(--fill-color);\n",
              "    border-color: transparent;\n",
              "    border-bottom-color: var(--fill-color);\n",
              "    animation:\n",
              "      spin 1s steps(1) infinite;\n",
              "  }\n",
              "\n",
              "  @keyframes spin {\n",
              "    0% {\n",
              "      border-color: transparent;\n",
              "      border-bottom-color: var(--fill-color);\n",
              "      border-left-color: var(--fill-color);\n",
              "    }\n",
              "    20% {\n",
              "      border-color: transparent;\n",
              "      border-left-color: var(--fill-color);\n",
              "      border-top-color: var(--fill-color);\n",
              "    }\n",
              "    30% {\n",
              "      border-color: transparent;\n",
              "      border-left-color: var(--fill-color);\n",
              "      border-top-color: var(--fill-color);\n",
              "      border-right-color: var(--fill-color);\n",
              "    }\n",
              "    40% {\n",
              "      border-color: transparent;\n",
              "      border-right-color: var(--fill-color);\n",
              "      border-top-color: var(--fill-color);\n",
              "    }\n",
              "    60% {\n",
              "      border-color: transparent;\n",
              "      border-right-color: var(--fill-color);\n",
              "    }\n",
              "    80% {\n",
              "      border-color: transparent;\n",
              "      border-right-color: var(--fill-color);\n",
              "      border-bottom-color: var(--fill-color);\n",
              "    }\n",
              "    90% {\n",
              "      border-color: transparent;\n",
              "      border-bottom-color: var(--fill-color);\n",
              "    }\n",
              "  }\n",
              "</style>\n",
              "\n",
              "  <script>\n",
              "    async function quickchart(key) {\n",
              "      const quickchartButtonEl =\n",
              "        document.querySelector('#' + key + ' button');\n",
              "      quickchartButtonEl.disabled = true;  // To prevent multiple clicks.\n",
              "      quickchartButtonEl.classList.add('colab-df-spinner');\n",
              "      try {\n",
              "        const charts = await google.colab.kernel.invokeFunction(\n",
              "            'suggestCharts', [key], {});\n",
              "      } catch (error) {\n",
              "        console.error('Error during call to suggestCharts:', error);\n",
              "      }\n",
              "      quickchartButtonEl.classList.remove('colab-df-spinner');\n",
              "      quickchartButtonEl.classList.add('colab-df-quickchart-complete');\n",
              "    }\n",
              "    (() => {\n",
              "      let quickchartButtonEl =\n",
              "        document.querySelector('#df-f7717dda-41ab-41f6-b85b-bef674024c6d button');\n",
              "      quickchartButtonEl.style.display =\n",
              "        google.colab.kernel.accessAllowed ? 'block' : 'none';\n",
              "    })();\n",
              "  </script>\n",
              "</div>\n",
              "\n",
              "    </div>\n",
              "  </div>\n"
            ],
            "application/vnd.google.colaboratory.intrinsic+json": {
              "type": "dataframe",
              "variable_name": "df",
              "summary": "{\n  \"name\": \"df\",\n  \"rows\": 200,\n  \"fields\": [\n    {\n      \"column\": \"cgpa\",\n      \"properties\": {\n        \"dtype\": \"number\",\n        \"std\": 1.0694086798895523,\n        \"min\": 4.26,\n        \"max\": 9.58,\n        \"num_unique_values\": 163,\n        \"samples\": [\n          8.71,\n          6.37,\n          7.94\n        ],\n        \"semantic_type\": \"\",\n        \"description\": \"\"\n      }\n    },\n    {\n      \"column\": \"package\",\n      \"properties\": {\n        \"dtype\": \"number\",\n        \"std\": 0.6916442411250219,\n        \"min\": 1.37,\n        \"max\": 4.62,\n        \"num_unique_values\": 138,\n        \"samples\": [\n          3.76,\n          3.13,\n          2.89\n        ],\n        \"semantic_type\": \"\",\n        \"description\": \"\"\n      }\n    }\n  ]\n}"
            }
          },
          "metadata": {},
          "execution_count": 3
        }
      ]
    },
    {
      "cell_type": "code",
      "source": [
        "X = df.iloc[:, 0].values.reshape(-1, 1)\n",
        "Y = df.iloc[:, -1].values\n",
        "print(X[:5])\n",
        "print(Y[:5])\n",
        "print(X.shape), print(Y.shape)"
      ],
      "metadata": {
        "colab": {
          "base_uri": "https://localhost:8080/"
        },
        "id": "pRjGKP88bZHX",
        "outputId": "833b9c41-bdda-4549-b78b-8871406ee6b6"
      },
      "execution_count": 4,
      "outputs": [
        {
          "output_type": "stream",
          "name": "stdout",
          "text": [
            "[[6.89]\n",
            " [5.12]\n",
            " [7.82]\n",
            " [7.42]\n",
            " [6.94]]\n",
            "[3.26 1.98 3.25 3.67 3.57]\n",
            "(200, 1)\n",
            "(200,)\n"
          ]
        },
        {
          "output_type": "execute_result",
          "data": {
            "text/plain": [
              "(None, None)"
            ]
          },
          "metadata": {},
          "execution_count": 4
        }
      ]
    },
    {
      "cell_type": "code",
      "source": [
        "# Splitting data into Training and Testing\n",
        "x_train, x_test, y_train, y_test = train_test_split(X, Y, test_size=0.3, random_state=42)\n",
        "x_train.shape, x_test.shape, y_train.shape, y_test.shape"
      ],
      "metadata": {
        "colab": {
          "base_uri": "https://localhost:8080/"
        },
        "id": "snutGTjkbrYJ",
        "outputId": "0ed89cb7-2d0f-4197-8658-fec66a35e821"
      },
      "execution_count": 5,
      "outputs": [
        {
          "output_type": "execute_result",
          "data": {
            "text/plain": [
              "((140, 1), (60, 1), (140,), (60,))"
            ]
          },
          "metadata": {},
          "execution_count": 5
        }
      ]
    },
    {
      "cell_type": "code",
      "source": [
        "# Feature Scaling\n",
        "scaler = StandardScaler() # Z-Score Normalization\n",
        "x_train = scaler.fit_transform(x_train)\n",
        "x_test = scaler.transform(x_test)"
      ],
      "metadata": {
        "id": "YOk4ay1h4Da0"
      },
      "execution_count": 6,
      "outputs": []
    },
    {
      "cell_type": "code",
      "source": [
        "print(x_train[:5])\n",
        "print(x_test[:5])"
      ],
      "metadata": {
        "colab": {
          "base_uri": "https://localhost:8080/"
        },
        "id": "oSAcIoEL4HaI",
        "outputId": "0fd22d16-2199-42f2-a75e-1a8368122002"
      },
      "execution_count": 7,
      "outputs": [
        {
          "output_type": "stream",
          "name": "stdout",
          "text": [
            "[[ 2.08910805]\n",
            " [-0.92796755]\n",
            " [ 0.99281331]\n",
            " [ 1.75387743]\n",
            " [-0.121602  ]]\n",
            "[[-0.33904889]\n",
            " [ 0.22268891]\n",
            " [ 0.32235207]\n",
            " [-0.95514841]\n",
            " [ 0.83878843]]\n"
          ]
        }
      ]
    },
    {
      "cell_type": "code",
      "source": [
        "class LinearRegressionGD:\n",
        "  def __init__(self, regul_l1=0.1, regul_l2=0.1, reg_type='l2'):\n",
        "    self.regul_l1 = regul_l1  # L1 Regularization strength\n",
        "    self.regul_l2 = regul_l2  # L2 Regularization strength\n",
        "    self.reg_type = reg_type  # Regularization type\n",
        "    self.w = None  # Weights\n",
        "\n",
        "  def fit(self, X, y, lr=0.001, num_iter=10):  # Reduced learning rate\n",
        "\n",
        "    # Add bias term to X -> [1 X]\n",
        "    X = np.hstack([np.ones((len(X), 1)), X])\n",
        "\n",
        "    # Initialize W to zeros\n",
        "    self.w = np.zeros(X.shape[1])\n",
        "\n",
        "    # Use gradient descent to minimize cost function\n",
        "    for i in range(num_iter):\n",
        "\n",
        "        y_pred = np.dot(X, self.w)  # y_pred shape is (n_samples,)\n",
        "\n",
        "        # Calculate cost and gradients\n",
        "        if self.reg_type == 'l2':\n",
        "            cost = np.sum((y_pred - y) ** 2) + self.regul_l2 * np.sum(self.w ** 2)\n",
        "            gradients = 2 * np.dot(X.T, (y_pred - y)) + 2 * self.regul_l2 * self.w\n",
        "\n",
        "        elif self.reg_type == 'l1':\n",
        "            cost = np.sum((y_pred - y) ** 2) + self.regul_l1 * np.sum(np.abs(self.w))\n",
        "            gradients = 2 * np.dot(X.T, (y_pred - y)) + self.regul_l1 * np.sign(self.w)\n",
        "\n",
        "        elif self.reg_type == 'elastic_net':\n",
        "            cost = np.sum((y_pred - y) ** 2) + self.regul_l1 * np.sum(np.abs(self.w)) + self.regul_l2 * np.sum(self.w ** 2)\n",
        "            gradients = 2 * np.dot(X.T, (y_pred - y)) + self.regul_l1 * np.sign(self.w) + 2 * self.regul_l2 * self.w\n",
        "\n",
        "        else:\n",
        "            cost = np.sum((y_pred - y) ** 2)\n",
        "            gradients = 2 * np.dot(X.T, (y_pred - y))\n",
        "\n",
        "        # Update W\n",
        "        self.w = self.w - lr * gradients\n",
        "\n",
        "        # Print Loss\n",
        "        if i != num_iter:\n",
        "            print(f\"Iteration {i+1}, Cost: {cost}\")\n",
        "\n",
        "  def predict(self, X):\n",
        "    X = np.hstack([np.ones((len(X), 1)), X])\n",
        "    y_pred = np.dot(X, self.w)\n",
        "    return y_pred\n",
        "\n",
        "  # Mean Squared Error (MSE)\n",
        "  def mean_squared_error(self, y_true, y_pred):\n",
        "      mse = np.mean((y_true - y_pred) ** 2)\n",
        "      return mse\n",
        "\n",
        "  # Mean Absolute Error (MAE)\n",
        "  def mean_absolute_error(self, y_true, y_pred):\n",
        "      mae = np.mean(np.abs(y_true - y_pred))\n",
        "      return mae\n",
        "\n",
        "  # Explained Variance Score (EVS)\n",
        "  def explained_variance_score(self, y_true, y_pred):\n",
        "      numerator = np.var(y_true - y_pred)\n",
        "      denominator = np.var(y_true)\n",
        "      evs = 1 - (numerator / denominator)\n",
        "      return evs\n",
        "\n",
        "  # R2 Score\n",
        "  def r2_score(self, y_true, y_pred):\n",
        "      total_sum_of_squares = np.sum((y_true - np.mean(y_true)) ** 2)\n",
        "      residual_sum_of_squares = np.sum((y_true - y_pred) ** 2)\n",
        "      r2 = 1 - (residual_sum_of_squares / total_sum_of_squares)\n",
        "      return r2\n",
        "\n",
        "  # Method to evaluate all scores\n",
        "  def evaluate(self, y_true, y_pred):\n",
        "      mse = self.mean_squared_error(y_true, y_pred)\n",
        "      mae = self.mean_absolute_error(y_true, y_pred)\n",
        "      evs = self.explained_variance_score(y_true, y_pred)\n",
        "      r2 = self.r2_score(y_true, y_pred)\n",
        "      return mse, mae, evs, r2"
      ],
      "metadata": {
        "id": "fvPZZj4c1igA"
      },
      "execution_count": 8,
      "outputs": []
    },
    {
      "cell_type": "code",
      "source": [
        "# Train\n",
        "lr = LinearRegressionGD(regul_l1=0.1, regul_l2=0.1, reg_type='l2')\n",
        "lr.fit(x_train, y_train, lr=0.001, num_iter=10)"
      ],
      "metadata": {
        "colab": {
          "base_uri": "https://localhost:8080/"
        },
        "id": "Z2Ky9Y6t1ijw",
        "outputId": "9e9cbd30-5ab8-4df0-a4e1-d109432f2cd5"
      },
      "execution_count": 9,
      "outputs": [
        {
          "output_type": "stream",
          "name": "stdout",
          "text": [
            "Iteration 1, Cost: 1341.5877\n",
            "Iteration 2, Cost: 702.959811716501\n",
            "Iteration 3, Cost: 372.0790137170451\n",
            "Iteration 4, Cost: 200.64568846871902\n",
            "Iteration 5, Cost: 111.82401860032535\n",
            "Iteration 6, Cost: 65.80444202860532\n",
            "Iteration 7, Cost: 41.96114533109531\n",
            "Iteration 8, Cost: 29.607646238823097\n",
            "Iteration 9, Cost: 23.207149622987792\n",
            "Iteration 10, Cost: 19.890975264344277\n"
          ]
        }
      ]
    },
    {
      "cell_type": "code",
      "source": [
        "# After training the model\n",
        "intercept = lr.w[0]  # The first element of w is the intercept (bias)\n",
        "slope = lr.w[1:]     # The remaining elements represent the slopes (coefficients for each feature)\n",
        "print(f\"Intercept (Bias): {intercept}\")\n",
        "print(f\"Slope (Coefficient): {slope}\")"
      ],
      "metadata": {
        "colab": {
          "base_uri": "https://localhost:8080/"
        },
        "id": "xzz42EQF1kfR",
        "outputId": "3b2cfaa7-0648-48c8-e29d-f00fe0e27e96"
      },
      "execution_count": 10,
      "outputs": [
        {
          "output_type": "stream",
          "name": "stdout",
          "text": [
            "Intercept (Bias): 2.8982326062098895\n",
            "Slope (Coefficient): [0.60539068]\n"
          ]
        }
      ]
    },
    {
      "cell_type": "markdown",
      "source": [
        "**Prediction**"
      ],
      "metadata": {
        "id": "2DWwjxb411YI"
      }
    },
    {
      "cell_type": "code",
      "source": [
        "# Prediction on X data (Training Data)\n",
        "y_pred = lr.predict(x_test)\n",
        "print(y_pred[:5])"
      ],
      "metadata": {
        "colab": {
          "base_uri": "https://localhost:8080/"
        },
        "id": "fWw23v3-1u1q",
        "outputId": "efa01f23-238e-451f-e909-1fbeb90fe032"
      },
      "execution_count": 11,
      "outputs": [
        {
          "output_type": "stream",
          "name": "stdout",
          "text": [
            "[2.69297557 3.0330464  3.09338155 2.31999466 3.40602731]\n"
          ]
        }
      ]
    },
    {
      "cell_type": "code",
      "source": [
        "# Prediction for random single data point\n",
        "gyan = lr.predict(np.array([50]).reshape(-1, 1))\n",
        "print(gyan)"
      ],
      "metadata": {
        "colab": {
          "base_uri": "https://localhost:8080/"
        },
        "id": "PVnZvMJv13My",
        "outputId": "0f5cdce0-80f3-460d-d44c-3b78b2f3b076"
      },
      "execution_count": 12,
      "outputs": [
        {
          "output_type": "stream",
          "name": "stdout",
          "text": [
            "[33.16776667]\n"
          ]
        }
      ]
    },
    {
      "cell_type": "markdown",
      "source": [
        "**Accuracy**"
      ],
      "metadata": {
        "id": "NCFXJUVbUfls"
      }
    },
    {
      "cell_type": "code",
      "source": [
        "# Custom Evaluation Accuracies\n",
        "mse, mae, evs, r2 = lr.evaluate(y_test, y_pred)\n",
        "print(f\"Mean Squared Error: {mse:.2f}\")\n",
        "print(f\"Mean Absolute Error: {mae:.2f}\")\n",
        "print(f\"Explained Variance Score: {evs:.2f}\")\n",
        "print(f\"R² Score: {r2:.2f}\")"
      ],
      "metadata": {
        "colab": {
          "base_uri": "https://localhost:8080/"
        },
        "id": "SqHj2SneWfqE",
        "outputId": "197f6533-2c7e-429d-f3b2-bebb7e48e443"
      },
      "execution_count": 13,
      "outputs": [
        {
          "output_type": "stream",
          "name": "stdout",
          "text": [
            "Mean Squared Error: 0.11\n",
            "Mean Absolute Error: 0.27\n",
            "Explained Variance Score: 0.75\n",
            "R² Score: 0.74\n"
          ]
        }
      ]
    },
    {
      "cell_type": "code",
      "source": [
        "# Inbuilt Function Accuracies\n",
        "mse = mean_squared_error(y_test, y_pred)\n",
        "mae = mean_absolute_error(y_test, y_pred)\n",
        "evs = explained_variance_score(y_test, y_pred)\n",
        "r2 = r2_score(y_test, y_pred)\n",
        "print(\"Mean Squared Error : \", mse)\n",
        "print(\"Mean Absolute Error : \", mae)\n",
        "print(\"Explained Variance Score : \", evs)\n",
        "print(\"R2 Score : \", r2)"
      ],
      "metadata": {
        "colab": {
          "base_uri": "https://localhost:8080/"
        },
        "id": "9QK9OOMcUenF",
        "outputId": "5bef2a2a-693c-4193-ece4-9d1090b96270"
      },
      "execution_count": 14,
      "outputs": [
        {
          "output_type": "stream",
          "name": "stdout",
          "text": [
            "Mean Squared Error :  0.10640772606375079\n",
            "Mean Absolute Error :  0.2731731385042718\n",
            "Explained Variance Score :  0.7540188050934973\n",
            "R2 Score :  0.73661953759025\n"
          ]
        }
      ]
    },
    {
      "cell_type": "markdown",
      "source": [
        "**Visualization**"
      ],
      "metadata": {
        "id": "Dhb8oULG1_c0"
      }
    },
    {
      "cell_type": "code",
      "source": [
        "# Training data\n",
        "plt.scatter(x_train, y_train, color='blue', label='Training data')\n",
        "plt.plot(x_train, lr.predict(x_train), color='red', label='Regression Line')\n",
        "plt.title('Linear Regression on Training Data')\n",
        "plt.xlabel('CGPA')\n",
        "plt.ylabel('Salary')\n",
        "plt.legend()\n",
        "plt.show()"
      ],
      "metadata": {
        "colab": {
          "base_uri": "https://localhost:8080/",
          "height": 472
        },
        "id": "oqX-VPAJ2-H_",
        "outputId": "ffa03517-c879-45a3-d109-8f20a7eb548c"
      },
      "execution_count": 15,
      "outputs": [
        {
          "output_type": "display_data",
          "data": {
            "text/plain": [
              "<Figure size 640x480 with 1 Axes>"
            ],
            "image/png": "[encoded data removed]"
          },
          "metadata": {}
        }
      ]
    },
    {
      "cell_type": "code",
      "source": [
        "# Testing data\n",
        "plt.scatter(x_test, y_test, color='blue', label='Training data')\n",
        "plt.plot(x_test, lr.predict(x_test), color='red', label='Regression Line')\n",
        "plt.title('Linear Regression on Testing Data')\n",
        "plt.xlabel('CGPA')\n",
        "plt.ylabel('Salary')\n",
        "plt.legend()\n",
        "plt.show()"
      ],
      "metadata": {
        "colab": {
          "base_uri": "https://localhost:8080/",
          "height": 472
        },
        "id": "nrJnJ5V663my",
        "outputId": "bfa511c2-3f6c-48f2-abb7-0d4f67b1d4b7"
      },
      "execution_count": 16,
      "outputs": [
        {
          "output_type": "display_data",
          "data": {
            "text/plain": [
              "<Figure size 640x480 with 1 Axes>"
            ],
            "image/png": "[encoded data removed]"
          },
          "metadata": {}
        }
      ]
    }
  ]
}
