{
  "nbformat": 4,
  "nbformat_minor": 0,
  "metadata": {
    "colab": {
      "provenance": []
    },
    "kernelspec": {
      "name": "python3",
      "display_name": "Python 3"
    },
    "language_info": {
      "name": "python"
    }
  },
  "cells": [
    {
      "cell_type": "markdown",
      "source": [
        "**Import Libraries**"
      ],
      "metadata": {
        "id": "uG1RJOrJoxDi"
      }
    },
    {
      "cell_type": "code",
      "execution_count": 1,
      "metadata": {
        "id": "AcBMz4mDPvTi"
      },
      "outputs": [],
      "source": [
        "import numpy as np\n",
        "import pandas as pd\n",
        "from pandas import DataFrame\n",
        "import matplotlib.pyplot as plt\n",
        "import seaborn as sns\n",
        "from collections import Counter\n",
        "from sklearn.datasets import load_diabetes, load_iris, fetch_california_housing\n",
        "from sklearn.model_selection import train_test_split\n",
        "from sklearn.datasets import make_classification\n",
        "from sklearn.preprocessing import MinMaxScaler, StandardScaler, RobustScaler\n",
        "from sklearn.preprocessing import MaxAbsScaler, PowerTransformer\n",
        "from sklearn.linear_model import LinearRegression, LogisticRegression\n",
        "from sklearn.tree import DecisionTreeRegressor, DecisionTreeClassifier\n",
        "from sklearn.neighbors import KNeighborsClassifier, KNeighborsRegressor\n",
        "from sklearn.svm import SVC, SVR\n",
        "from sklearn.metrics import mean_squared_error, mean_absolute_error, r2_score\n",
        "from sklearn.metrics import precision_score, recall_score, f1_score, explained_variance_score\n",
        "from sklearn.metrics import accuracy_score, classification_report, confusion_matrix, roc_curve, auc"
      ]
    },
    {
      "cell_type": "markdown",
      "source": [
        "**Code**"
      ],
      "metadata": {
        "id": "txc-dnUTvyY9"
      }
    },
    {
      "cell_type": "code",
      "source": [
        "class KMeans:\n",
        "  def __init__(self, k=3, max_iters=100, tol=1e-4, init_method='random', dist_metric='euclidean', verbose=False):\n",
        "    self.k = k\n",
        "    self.max_iters = max_iters\n",
        "    self.tol = tol\n",
        "    self.init_method = init_method\n",
        "    self.dist_metric = dist_metric\n",
        "    self.verbose = verbose\n",
        "\n",
        "  def _initialize_centroids(self, X):\n",
        "    if self.init_method == 'random':\n",
        "      # Random initialization within the data bounds\n",
        "      min_vals, max_vals = np.min(X, axis=0), np.max(X, axis=0)\n",
        "      centroids = np.array([np.random.uniform(min_vals[i], max_vals[i], self.k) for i in range(X.shape[1])]).T\n",
        "    elif self.init_method == 'kmeans++':\n",
        "      # K-Means++ initialization\n",
        "      centroids = [X[np.random.randint(len(X))]]\n",
        "      for _ in range(1, self.k):\n",
        "        dist_sq = np.min([np.linalg.norm(X - c, axis=1)**2 for c in centroids], axis=0)\n",
        "        prob = dist_sq / dist_sq.sum()\n",
        "        next_centroid = X[np.random.choice(len(X), p=prob)]\n",
        "        centroids.append(next_centroid)\n",
        "      centroids = np.array(centroids)\n",
        "    return centroids\n",
        "\n",
        "  def _compute_distance(self, a, b):\n",
        "    if self.dist_metric == 'euclidean':\n",
        "      return np.linalg.norm(a - b)\n",
        "    elif self.dist_metric == 'manhattan':\n",
        "      return np.sum(np.abs(a - b))\n",
        "\n",
        "  def _assign_clusters(self, X, centroids):\n",
        "    distances = np.zeros((X.shape[0], self.k))\n",
        "    for i, centroid in enumerate(centroids):\n",
        "      distances[:, i] = np.linalg.norm(X - centroid, axis=1) if self.dist_metric == 'euclidean' else np.sum(np.abs(X - centroid), axis=1)\n",
        "    return np.argmin(distances, axis=1)\n",
        "\n",
        "  def _compute_centroids(self, X, labels):\n",
        "    centroids = np.zeros((self.k, X.shape[1]))\n",
        "    for i in range(self.k):\n",
        "      points_in_cluster = X[labels == i]\n",
        "      if len(points_in_cluster) > 0:\n",
        "        centroids[i] = np.mean(points_in_cluster, axis=0)\n",
        "      else:\n",
        "        # Handle empty clusters by reinitializing the centroid randomly\n",
        "        centroids[i] = X[np.random.randint(len(X))]\n",
        "    return centroids\n",
        "\n",
        "  def fit(self, X, visualize=False):\n",
        "    self.centroids = self._initialize_centroids(X)\n",
        "    for iteration in range(self.max_iters):\n",
        "        labels = self._assign_clusters(X, self.centroids)\n",
        "        new_centroids = self._compute_centroids(X, labels)\n",
        "        # Check for convergence based on centroid movement\n",
        "        if np.linalg.norm(self.centroids - new_centroids) < self.tol:\n",
        "          if self.verbose:\n",
        "            print(f\"Converged in {iteration+1} iterations.\")\n",
        "          break\n",
        "        self.centroids = new_centroids\n",
        "        # Optionally visualize clustering at each iteration\n",
        "        if visualize:\n",
        "          self._visualize_clusters(X, labels, iteration+1)\n",
        "        if self.verbose:\n",
        "          print(f\"Iteration {iteration+1}: Centroid movement = {np.linalg.norm(self.centroids - new_centroids)}\")\n",
        "    self.labels = labels\n",
        "\n",
        "  def predict(self, X):\n",
        "    return self._assign_clusters(X, self.centroids)"
      ],
      "metadata": {
        "id": "Ab04vN_ua1T0"
      },
      "execution_count": 2,
      "outputs": []
    },
    {
      "cell_type": "markdown",
      "source": [
        "**Load Dataset**"
      ],
      "metadata": {
        "id": "Lbg3RUrEpjHx"
      }
    },
    {
      "cell_type": "code",
      "source": [
        "dataset = load_iris()\n",
        "x = dataset.data\n",
        "y = dataset.target"
      ],
      "metadata": {
        "id": "fDOmcQ2HpEhb"
      },
      "execution_count": 3,
      "outputs": []
    },
    {
      "cell_type": "code",
      "source": [
        "# Splitting data into training and testing\n",
        "X_train, X_test, y_train, y_test = train_test_split(x, y, test_size=0.25, random_state=42)\n",
        "X_train.shape, X_test.shape, y_train.shape, y_test.shape"
      ],
      "metadata": {
        "colab": {
          "base_uri": "https://localhost:8080/"
        },
        "id": "TjcZRV0ppOyP",
        "outputId": "89b7b252-fa30-4223-d9a8-f60339d44f33"
      },
      "execution_count": 4,
      "outputs": [
        {
          "output_type": "execute_result",
          "data": {
            "text/plain": [
              "((112, 4), (38, 4), (112,), (38,))"
            ]
          },
          "metadata": {},
          "execution_count": 4
        }
      ]
    },
    {
      "cell_type": "markdown",
      "source": [
        "**Train**"
      ],
      "metadata": {
        "id": "GrZBCA4Hpyjg"
      }
    },
    {
      "cell_type": "code",
      "source": [
        "# Train\n",
        "kmeans = KMeans(k=3, max_iters=100, tol=1e-3, init_method='kmeans++', dist_metric='euclidean', verbose=True)\n",
        "kmeans.fit(X_train)"
      ],
      "metadata": {
        "colab": {
          "base_uri": "https://localhost:8080/"
        },
        "id": "CO_HlPUToyFA",
        "outputId": "ae13f47e-955b-4e47-b9cd-82a4bbfba209"
      },
      "execution_count": 5,
      "outputs": [
        {
          "output_type": "stream",
          "name": "stdout",
          "text": [
            "Iteration 1: Centroid movement = 0.0\n",
            "Iteration 2: Centroid movement = 0.0\n",
            "Iteration 3: Centroid movement = 0.0\n",
            "Converged in 4 iterations.\n"
          ]
        }
      ]
    },
    {
      "cell_type": "markdown",
      "source": [
        "**Prediction**"
      ],
      "metadata": {
        "id": "70n3RhmLpwWh"
      }
    },
    {
      "cell_type": "code",
      "source": [
        "# Predicting cluster assignments\n",
        "predicted_labels = kmeans.predict(X_train)\n",
        "predicted_labels"
      ],
      "metadata": {
        "colab": {
          "base_uri": "https://localhost:8080/"
        },
        "id": "8QnLH3MEopWU",
        "outputId": "43727ebd-cf8b-4b1a-dc57-4f77ee76cc82"
      },
      "execution_count": 6,
      "outputs": [
        {
          "output_type": "execute_result",
          "data": {
            "text/plain": [
              "array([1, 1, 2, 2, 2, 1, 1, 2, 2, 0, 2, 0, 2, 0, 2, 1, 0, 2, 1, 1, 1, 2,\n",
              "       2, 1, 1, 1, 2, 1, 2, 0, 1, 2, 2, 1, 2, 2, 2, 2, 0, 2, 1, 2, 0, 1,\n",
              "       1, 2, 0, 1, 2, 1, 1, 2, 2, 0, 2, 0, 0, 2, 1, 1, 2, 0, 1, 1, 1, 2,\n",
              "       0, 1, 0, 0, 1, 2, 2, 2, 0, 0, 1, 0, 2, 0, 2, 2, 2, 1, 2, 2, 1, 2,\n",
              "       0, 0, 1, 2, 0, 0, 1, 0, 1, 0, 0, 0, 2, 0, 2, 2, 2, 2, 1, 2, 2, 1,\n",
              "       2, 0])"
            ]
          },
          "metadata": {},
          "execution_count": 6
        }
      ]
    },
    {
      "cell_type": "markdown",
      "source": [
        "**Visualization**"
      ],
      "metadata": {
        "id": "jJzx6nYap0kw"
      }
    },
    {
      "cell_type": "code",
      "source": [
        "# Visualizing function\n",
        "def _visualize_clusters(X, centroids, labels, iteration):\n",
        "  df = DataFrame(dict(x=X[:, 0], y=X[:, 1], label=labels))\n",
        "  colors = {i: plt.cm.jet(float(i) / max(labels + 1)) for i in range(len(centroids))}\n",
        "  fig, ax = plt.subplots(figsize=(8, 8))\n",
        "  for key, group in df.groupby('label'):\n",
        "      group.plot(ax=ax, kind='scatter', x='x', y='y', label=f'Cluster {key}', color=colors[key])\n",
        "  ax.scatter(centroids[:, 0], centroids[:, 1], marker='*', s=150, c='black', label='Centroids')\n",
        "  plt.title(f\"Iteration {iteration}\")\n",
        "  plt.xlabel('X1')\n",
        "  plt.ylabel('X2')\n",
        "  plt.legend()\n",
        "  plt.show()\n",
        "\n",
        "# Call the function with the final centroids and labels\n",
        "_visualize_clusters(X_train, kmeans.centroids, predicted_labels, \"Final\")"
      ],
      "metadata": {
        "colab": {
          "base_uri": "https://localhost:8080/",
          "height": 718
        },
        "id": "B_wOnM96opcD",
        "outputId": "c40e45d4-68f0-48f5-a14e-9aaa9cedce77"
      },
      "execution_count": 7,
      "outputs": [
        {
          "output_type": "display_data",
          "data": {
            "text/plain": [
              "<Figure size 800x800 with 1 Axes>"
            ],
            "image/png": "[encoded data removed]"
          },
          "metadata": {}
        }
      ]
    }
  ]
}